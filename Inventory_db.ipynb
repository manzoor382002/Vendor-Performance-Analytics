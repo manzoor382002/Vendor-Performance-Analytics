{
 "cells": [
  {
   "cell_type": "code",
   "execution_count": 1,
   "id": "fa73454d-5c30-4e70-bad3-1e84aa3f8651",
   "metadata": {},
   "outputs": [],
   "source": [
    "import os\n",
    "import pandas as pd\n",
    "from sqlalchemy import create_engine\n",
    "import logging\n",
    "import time\n"
   ]
  },
  {
   "cell_type": "code",
   "execution_count": 3,
   "id": "fc5411f6-2112-47e6-b06d-450b4499a509",
   "metadata": {},
   "outputs": [],
   "source": [
    "# Logging config\n",
    "logging.basicConfig(\n",
    "    filename=\"logs/ingestion_db.log\",\n",
    "    level=logging.DEBUG,\n",
    "    format=\"%(asctime)s - %(levelname)s - %(message)s\",\n",
    "    filemode=\"a\"\n",
    ")\n"
   ]
  },
  {
   "cell_type": "code",
   "execution_count": 5,
   "id": "f70856f1-1c9b-4f41-8cc3-e21ccedf96f8",
   "metadata": {},
   "outputs": [],
   "source": [
    "\n",
    "engine = create_engine('sqlite:///inventory.db')\n"
   ]
  },
  {
   "cell_type": "code",
   "execution_count": 7,
   "id": "21a5e93d-ada8-4057-84ea-8e6dfb767f90",
   "metadata": {},
   "outputs": [],
   "source": [
    "\n",
    "def ingest_db(df, table_name, engine):\n",
    "    df.to_sql(table_name, con=engine, if_exists='replace', index=False)\n"
   ]
  },
  {
   "cell_type": "code",
   "execution_count": 9,
   "id": "d5804b85-ff68-4f19-94e5-0599f098c24b",
   "metadata": {},
   "outputs": [],
   "source": [
    "\n",
    "def load_raw_data():\n",
    "    start = time.time()\n",
    "    for file in os.listdir('data'):\n",
    "        if file.endswith('.csv'):\n",
    "            df = pd.read_csv(f'data/{file}')\n",
    "            logging.info(f'Ingesting {file} in db')\n",
    "            ingest_db(df, file[:-4], engine)\n",
    "    end = time.time()\n",
    "    total_time = (end - start) / 60\n",
    "    logging.info(\"-------Ingestion complete--------\")\n",
    "    logging.info(f'\\nTotal Time taken: {total_time} minutes')\n"
   ]
  },
  {
   "cell_type": "code",
   "execution_count": null,
   "id": "65f858ec-8060-4c9f-ba0e-f2ed701bbdcd",
   "metadata": {},
   "outputs": [],
   "source": [
    "\n",
    "load_raw_data()\n"
   ]
  },
  {
   "cell_type": "code",
   "execution_count": null,
   "id": "7fb2adee-4592-41fb-8d92-768ed98142f6",
   "metadata": {},
   "outputs": [],
   "source": []
  }
 ],
 "metadata": {
  "kernelspec": {
   "display_name": "Python 3 (ipykernel)",
   "language": "python",
   "name": "python3"
  },
  "language_info": {
   "codemirror_mode": {
    "name": "ipython",
    "version": 3
   },
   "file_extension": ".py",
   "mimetype": "text/x-python",
   "name": "python",
   "nbconvert_exporter": "python",
   "pygments_lexer": "ipython3",
   "version": "3.12.7"
  }
 },
 "nbformat": 4,
 "nbformat_minor": 5
}
